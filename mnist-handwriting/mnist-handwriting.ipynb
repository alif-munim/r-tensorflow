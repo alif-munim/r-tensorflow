{
 "cells": [
  {
   "cell_type": "markdown",
   "id": "c9aa4d82",
   "metadata": {},
   "source": [
    "### MNIST Handwriting\n",
    "MNIST stands for the Modified National Institute of Standards and Technology. The dataset used in this project contains 250 handwriting styles, split into 60,000 train and 10,000 test images. The extended MNIST dataset contains 240,000 train and 40,000 test"
   ]
  },
  {
   "cell_type": "code",
   "execution_count": 11,
   "id": "3ebc0a1f",
   "metadata": {},
   "outputs": [],
   "source": [
    "detach(\"package:keras\", unload = TRUE)"
   ]
  },
  {
   "cell_type": "code",
   "execution_count": 12,
   "id": "70a046dd",
   "metadata": {},
   "outputs": [
    {
     "name": "stdout",
     "output_type": "stream",
     "text": [
      "package 'keras' successfully unpacked and MD5 sums checked\n",
      "\n",
      "The downloaded binary packages are in\n",
      "\tC:\\Users\\alif-\\AppData\\Local\\Temp\\RtmpKiONMF\\downloaded_packages\n"
     ]
    }
   ],
   "source": [
    "install.packages(\"keras\")"
   ]
  },
  {
   "cell_type": "code",
   "execution_count": 13,
   "id": "9c1e22d7",
   "metadata": {},
   "outputs": [
    {
     "name": "stdout",
     "output_type": "stream",
     "text": [
      "\n",
      "Installation complete.\n",
      "\n"
     ]
    }
   ],
   "source": [
    "keras::install_keras()"
   ]
  },
  {
   "cell_type": "code",
   "execution_count": 3,
   "id": "2e3aa378",
   "metadata": {},
   "outputs": [
    {
     "name": "stderr",
     "output_type": "stream",
     "text": [
      "Warning message:\n",
      "\"package 'keras' was built under R version 3.6.3\""
     ]
    }
   ],
   "source": [
    "library(keras)\n",
    "use_backend(\"tensorflow\")"
   ]
  },
  {
   "cell_type": "code",
   "execution_count": 4,
   "id": "450b0fbd",
   "metadata": {},
   "outputs": [],
   "source": [
    "mnist <- dataset_mnist()"
   ]
  },
  {
   "cell_type": "code",
   "execution_count": 5,
   "id": "e52e534e",
   "metadata": {},
   "outputs": [
    {
     "name": "stdout",
     "output_type": "stream",
     "text": [
      "List of 2\n",
      " $ train:List of 2\n",
      "  ..$ x: int [1:60000, 1:28, 1:28] 0 0 0 0 0 0 0 0 0 0 ...\n",
      "  ..$ y: int [1:60000(1d)] 5 0 4 1 9 2 1 3 1 4 ...\n",
      " $ test :List of 2\n",
      "  ..$ x: int [1:10000, 1:28, 1:28] 0 0 0 0 0 0 0 0 0 0 ...\n",
      "  ..$ y: int [1:10000(1d)] 7 2 1 0 4 1 4 9 5 9 ...\n"
     ]
    }
   ],
   "source": [
    "str(mnist)"
   ]
  },
  {
   "cell_type": "code",
   "execution_count": 6,
   "id": "24353f53",
   "metadata": {},
   "outputs": [],
   "source": [
    "# store training data\n",
    "train_x <- mnist$train$x\n",
    "train_y <- mnist$train$y\n",
    "\n",
    "# store test data\n",
    "test_x <- mnist$test$x\n",
    "test_y <- mnist$test$y"
   ]
  },
  {
   "cell_type": "code",
   "execution_count": 7,
   "id": "e5752536",
   "metadata": {},
   "outputs": [
    {
     "data": {
      "text/plain": [
       "       train_y\n",
       "train_y    0    1    2    3    4    5    6    7    8    9\n",
       "      0 5923    0    0    0    0    0    0    0    0    0\n",
       "      1    0 6742    0    0    0    0    0    0    0    0\n",
       "      2    0    0 5958    0    0    0    0    0    0    0\n",
       "      3    0    0    0 6131    0    0    0    0    0    0\n",
       "      4    0    0    0    0 5842    0    0    0    0    0\n",
       "      5    0    0    0    0    0 5421    0    0    0    0\n",
       "      6    0    0    0    0    0    0 5918    0    0    0\n",
       "      7    0    0    0    0    0    0    0 6265    0    0\n",
       "      8    0    0    0    0    0    0    0    0 5851    0\n",
       "      9    0    0    0    0    0    0    0    0    0 5949"
      ]
     },
     "metadata": {},
     "output_type": "display_data"
    }
   ],
   "source": [
    "table(train_y, train_y)"
   ]
  },
  {
   "cell_type": "code",
   "execution_count": 8,
   "id": "9dac0e2b",
   "metadata": {},
   "outputs": [
    {
     "data": {
      "text/plain": [
       "      test_y\n",
       "test_y    0    1    2    3    4    5    6    7    8    9\n",
       "     0  980    0    0    0    0    0    0    0    0    0\n",
       "     1    0 1135    0    0    0    0    0    0    0    0\n",
       "     2    0    0 1032    0    0    0    0    0    0    0\n",
       "     3    0    0    0 1010    0    0    0    0    0    0\n",
       "     4    0    0    0    0  982    0    0    0    0    0\n",
       "     5    0    0    0    0    0  892    0    0    0    0\n",
       "     6    0    0    0    0    0    0  958    0    0    0\n",
       "     7    0    0    0    0    0    0    0 1028    0    0\n",
       "     8    0    0    0    0    0    0    0    0  974    0\n",
       "     9    0    0    0    0    0    0    0    0    0 1009"
      ]
     },
     "metadata": {},
     "output_type": "display_data"
    }
   ],
   "source": [
    "table(test_y, test_y)"
   ]
  },
  {
   "cell_type": "code",
   "execution_count": 9,
   "id": "7e0bd473",
   "metadata": {},
   "outputs": [
    {
     "data": {
      "image/png": "[encoded data removed]",
      "text/plain": [
       "plot without title"
      ]
     },
     "metadata": {},
     "output_type": "display_data"
    }
   ],
   "source": [
    "# Plot images\n",
    "par(mfrow = c(3,3))\n",
    "for (i in 1:9) plot(as.raster(train_x[i,,], max = 255))"
   ]
  },
  {
   "cell_type": "code",
   "execution_count": 10,
   "id": "516bb890",
   "metadata": {},
   "outputs": [
    {
     "data": {
      "image/png": "[encoded data removed]",
      "text/plain": [
       "Plot with title \"Histogram of train_x[1, , ]\""
      ]
     },
     "metadata": {},
     "output_type": "display_data"
    }
   ],
   "source": [
    "hist(train_x[1,,])"
   ]
  },
  {
   "cell_type": "code",
   "execution_count": 11,
   "id": "d3781e81",
   "metadata": {},
   "outputs": [
    {
     "name": "stdout",
     "output_type": "stream",
     "text": [
      " int [1:60000, 1:28, 1:28] 0 0 0 0 0 0 0 0 0 0 ...\n"
     ]
    }
   ],
   "source": [
    "str(train_x)"
   ]
  },
  {
   "cell_type": "code",
   "execution_count": 12,
   "id": "5d2306ce",
   "metadata": {},
   "outputs": [
    {
     "name": "stdout",
     "output_type": "stream",
     "text": [
      " num [1:60000, 1:784] 0 0 0 0 0 0 0 0 0 0 ...\n"
     ]
    }
   ],
   "source": [
    "# Unroll training examples from matrices to single vector\n",
    "train_x <- array_reshape(train_x, c(nrow(train_x), 784))\n",
    "str(train_x)"
   ]
  },
  {
   "cell_type": "code",
   "execution_count": 13,
   "id": "71d8a585",
   "metadata": {},
   "outputs": [
    {
     "name": "stdout",
     "output_type": "stream",
     "text": [
      " int [1:10000, 1:28, 1:28] 0 0 0 0 0 0 0 0 0 0 ...\n"
     ]
    }
   ],
   "source": [
    "str(test_x)"
   ]
  },
  {
   "cell_type": "code",
   "execution_count": 14,
   "id": "2647b5ec",
   "metadata": {},
   "outputs": [
    {
     "name": "stdout",
     "output_type": "stream",
     "text": [
      " num [1:10000, 1:784] 0 0 0 0 0 0 0 0 0 0 ...\n"
     ]
    }
   ],
   "source": [
    "# Unroll test examples from matrices to single vector\n",
    "test_x <- array_reshape(test_x, c(nrow(test_x), 784))\n",
    "str(test_x)"
   ]
  },
  {
   "cell_type": "code",
   "execution_count": 15,
   "id": "57067ad3",
   "metadata": {},
   "outputs": [],
   "source": [
    "# Normalize train and test data so values range from 0 to 1\n",
    "train_x <- train_x / 255\n",
    "test_x <- test_x / 255"
   ]
  },
  {
   "cell_type": "code",
   "execution_count": 16,
   "id": "31e91a0b",
   "metadata": {},
   "outputs": [
    {
     "data": {
      "image/png": "[encoded data removed]",
      "text/plain": [
       "Plot with title \"Histogram of train_x[1, ]\""
      ]
     },
     "metadata": {},
     "output_type": "display_data"
    }
   ],
   "source": [
    "hist(train_x[1,])"
   ]
  },
  {
   "cell_type": "code",
   "execution_count": 17,
   "id": "872bcd8e",
   "metadata": {},
   "outputs": [
    {
     "data": {
      "text/html": [
       "5"
      ],
      "text/latex": [
       "5"
      ],
      "text/markdown": [
       "5"
      ],
      "text/plain": [
       "[1] 5"
      ]
     },
     "metadata": {},
     "output_type": "display_data"
    }
   ],
   "source": [
    "train_y[1]"
   ]
  },
  {
   "cell_type": "code",
   "execution_count": 18,
   "id": "5afaf283",
   "metadata": {},
   "outputs": [],
   "source": [
    "# One hot encoding\n",
    "train_y <- to_categorical(train_y, 10)\n",
    "test_y <- to_categorical(test_y, 10)"
   ]
  },
  {
   "cell_type": "code",
   "execution_count": 19,
   "id": "63e0f36f",
   "metadata": {},
   "outputs": [
    {
     "data": {
      "text/html": [
       "<ol class=list-inline>\n",
       "\t<li>0</li>\n",
       "\t<li>0</li>\n",
       "\t<li>0</li>\n",
       "\t<li>0</li>\n",
       "\t<li>0</li>\n",
       "\t<li>1</li>\n",
       "\t<li>0</li>\n",
       "\t<li>0</li>\n",
       "\t<li>0</li>\n",
       "\t<li>0</li>\n",
       "</ol>\n"
      ],
      "text/latex": [
       "\\begin{enumerate*}\n",
       "\\item 0\n",
       "\\item 0\n",
       "\\item 0\n",
       "\\item 0\n",
       "\\item 0\n",
       "\\item 1\n",
       "\\item 0\n",
       "\\item 0\n",
       "\\item 0\n",
       "\\item 0\n",
       "\\end{enumerate*}\n"
      ],
      "text/markdown": [
       "1. 0\n",
       "2. 0\n",
       "3. 0\n",
       "4. 0\n",
       "5. 0\n",
       "6. 1\n",
       "7. 0\n",
       "8. 0\n",
       "9. 0\n",
       "10. 0\n",
       "\n",
       "\n"
      ],
      "text/plain": [
       " [1] 0 0 0 0 0 1 0 0 0 0"
      ]
     },
     "metadata": {},
     "output_type": "display_data"
    }
   ],
   "source": [
    "train_y[1,]"
   ]
  },
  {
   "cell_type": "code",
   "execution_count": 20,
   "id": "50cd3903",
   "metadata": {},
   "outputs": [
    {
     "name": "stdout",
     "output_type": "stream",
     "text": [
      "Model: \"sequential\"\n",
      "________________________________________________________________________________\n",
      "Layer (type)                        Output Shape                    Param #     \n",
      "================================================================================\n",
      "dense (Dense)                       (None, 128)                     100480      \n",
      "________________________________________________________________________________\n",
      "dense_1 (Dense)                     (None, 10)                      1290        \n",
      "================================================================================\n",
      "Total params: 101,770\n",
      "Trainable params: 101,770\n",
      "Non-trainable params: 0\n",
      "________________________________________________________________________________\n"
     ]
    }
   ],
   "source": [
    "# Create model\n",
    "model <- keras_model_sequential()\n",
    "model %>%\n",
    "    layer_dense(units=128, activation=\"relu\", input_shape=c(784)) %>%\n",
    "    layer_dense(units=10, activation=\"softmax\")\n",
    "summary(model)"
   ]
  },
  {
   "cell_type": "code",
   "execution_count": 21,
   "id": "3c0cb04e",
   "metadata": {},
   "outputs": [],
   "source": [
    "# Compile model\n",
    "model %>%\n",
    "    compile(loss=\"categorical_crossentropy\",\n",
    "           optimizer=optimizer_rmsprop(),\n",
    "           metrics=\"accuracy\")"
   ]
  },
  {
   "cell_type": "code",
   "execution_count": 22,
   "id": "70e55481",
   "metadata": {},
   "outputs": [],
   "source": [
    "# Fit model\n",
    "history <- model %>%\n",
    "    fit(train_x, train_y, epochs=50, batch_size=32, validation_split=0.2)"
   ]
  },
  {
   "cell_type": "code",
   "execution_count": 25,
   "id": "e9a2c5cd",
   "metadata": {},
   "outputs": [
    {
     "name": "stderr",
     "output_type": "stream",
     "text": [
      "Registered S3 methods overwritten by 'ggplot2':\n",
      "  method         from \n",
      "  [.quosures     rlang\n",
      "  c.quosures     rlang\n",
      "  print.quosures rlang\n"
     ]
    },
    {
     "data": {
      "image/png": "[encoded data removed]",
      "text/plain": [
       "plot without title"
      ]
     },
     "metadata": {},
     "output_type": "display_data"
    }
   ],
   "source": [
    "plot(history)"
   ]
  },
  {
   "cell_type": "code",
   "execution_count": 19,
   "id": "84945090",
   "metadata": {},
   "outputs": [
    {
     "name": "stdout",
     "output_type": "stream",
     "text": [
      "Model: \"sequential\"\n",
      "________________________________________________________________________________\n",
      "Layer (type)                        Output Shape                    Param #     \n",
      "================================================================================\n",
      "dense (Dense)                       (None, 128)                     100480      \n",
      "________________________________________________________________________________\n",
      "dropout (Dropout)                   (None, 128)                     0           \n",
      "________________________________________________________________________________\n",
      "dense_1 (Dense)                     (None, 64)                      8256        \n",
      "________________________________________________________________________________\n",
      "dropout_1 (Dropout)                 (None, 64)                      0           \n",
      "________________________________________________________________________________\n",
      "dense_2 (Dense)                     (None, 10)                      650         \n",
      "================================================================================\n",
      "Total params: 109,386\n",
      "Trainable params: 109,386\n",
      "Non-trainable params: 0\n",
      "________________________________________________________________________________\n"
     ]
    }
   ],
   "source": [
    "# Improve model\n",
    "model <- keras_model_sequential()\n",
    "model %>%\n",
    "    layer_dense(units=128, activation=\"relu\", input_shape=c(784)) %>%\n",
    "    layer_dropout(rate=0.3) %>%\n",
    "    layer_dense(units=64, activation=\"relu\") %>%\n",
    "    layer_dropout(rate=0.2) %>%\n",
    "    layer_dense(units=10, activation=\"softmax\")\n",
    "summary(model)"
   ]
  },
  {
   "cell_type": "code",
   "execution_count": 20,
   "id": "5587489f",
   "metadata": {},
   "outputs": [],
   "source": [
    "model %>%\n",
    "    compile(loss=\"categorical_crossentropy\",\n",
    "           optimizer=optimizer_rmsprop(),\n",
    "           metrics=\"accuracy\")"
   ]
  },
  {
   "cell_type": "code",
   "execution_count": 21,
   "id": "7aa232fc",
   "metadata": {},
   "outputs": [],
   "source": [
    "# Fit model\n",
    "history <- model %>%\n",
    "    fit(train_x, train_y, epochs=30, batch_size=32, validation_split=0.2)"
   ]
  },
  {
   "cell_type": "code",
   "execution_count": 21,
   "id": "a343dbbb",
   "metadata": {},
   "outputs": [
    {
     "name": "stderr",
     "output_type": "stream",
     "text": [
      "Registered S3 methods overwritten by 'ggplot2':\n",
      "  method         from \n",
      "  [.quosures     rlang\n",
      "  c.quosures     rlang\n",
      "  print.quosures rlang\n"
     ]
    },
    {
     "data": {
      "image/png": "[encoded data removed]",
      "text/plain": [
       "plot without title"
      ]
     },
     "metadata": {},
     "output_type": "display_data"
    }
   ],
   "source": [
    "plot(history)"
   ]
  },
  {
   "cell_type": "code",
   "execution_count": 22,
   "id": "92080592",
   "metadata": {},
   "outputs": [
    {
     "data": {
      "text/html": [
       "<dl class=dl-horizontal>\n",
       "\t<dt>loss</dt>\n",
       "\t\t<dd>0.203440934419632</dd>\n",
       "\t<dt>accuracy</dt>\n",
       "\t\t<dd>0.97460001707077</dd>\n",
       "</dl>\n"
      ],
      "text/latex": [
       "\\begin{description*}\n",
       "\\item[loss] 0.203440934419632\n",
       "\\item[accuracy] 0.97460001707077\n",
       "\\end{description*}\n"
      ],
      "text/markdown": [
       "loss\n",
       ":   0.203440934419632accuracy\n",
       ":   0.97460001707077\n",
       "\n"
      ],
      "text/plain": [
       "     loss  accuracy \n",
       "0.2034409 0.9746000 "
      ]
     },
     "metadata": {},
     "output_type": "display_data"
    }
   ],
   "source": [
    "# Evaluation and prediction on test data\n",
    "model %>% evaluate(test_x, test_y)"
   ]
  },
  {
   "cell_type": "code",
   "execution_count": 24,
   "id": "560db902",
   "metadata": {},
   "outputs": [
    {
     "data": {
      "text/plain": [
       "         Actual\n",
       "Predicted    0    1    2    3    4    5    6    7    8    9\n",
       "        0  971    0    2    0    1    2    6    2    7    5\n",
       "        1    1 1122    3    0    1    0    3    7    1    5\n",
       "        2    1    3 1010    8    6    0    0   13    3    0\n",
       "        3    0    1    2  987    0    7    1    6    6    5\n",
       "        4    0    0    4    0  955    2    6    0    4    9\n",
       "        5    1    1    0    8    0  870    4    0   14    2\n",
       "        6    3    2    2    0    3    6  934    0    3    0\n",
       "        7    1    0    5    4    4    1    0  992    5    5\n",
       "        8    1    6    4    2    2    2    4    2  927    0\n",
       "        9    1    0    0    1   10    2    0    6    4  978"
      ]
     },
     "metadata": {},
     "output_type": "display_data"
    }
   ],
   "source": [
    "# Create confusion matrix\n",
    "pred <- model %>% predict_classes(test_x)\n",
    "table(Predicted = pred, Actual = mnist$test$y)"
   ]
  },
  {
   "cell_type": "code",
   "execution_count": 25,
   "id": "b0af4e19",
   "metadata": {},
   "outputs": [
    {
     "data": {
      "text/html": [
       "<table>\n",
       "<thead><tr><th scope=col></th><th scope=col></th><th scope=col></th><th scope=col></th><th scope=col></th><th scope=col></th><th scope=col></th><th scope=col></th><th scope=col></th><th scope=col></th><th scope=col>Predicted</th><th scope=col>Actual</th></tr></thead>\n",
       "<tbody>\n",
       "\t<tr><td>0.000000e+00</td><td>0.000000e+00</td><td>2.569127e-28</td><td>1.230663e-24</td><td>0.000000e+00</td><td>4.480586e-34</td><td>0.000000e+00</td><td>1.000000e+00</td><td>0.000000e+00</td><td>2.274963e-31</td><td>7           </td><td>7           </td></tr>\n",
       "\t<tr><td>0.000000e+00</td><td>6.741208e-34</td><td>1.000000e+00</td><td>6.244580e-24</td><td>0.000000e+00</td><td>0.000000e+00</td><td>0.000000e+00</td><td>0.000000e+00</td><td>0.000000e+00</td><td>0.000000e+00</td><td>2           </td><td>2           </td></tr>\n",
       "\t<tr><td>9.143721e-35</td><td>1.000000e+00</td><td>4.277748e-14</td><td>4.059695e-15</td><td>6.499437e-15</td><td>2.656243e-16</td><td>6.058126e-20</td><td>1.815451e-12</td><td>7.208062e-16</td><td>5.132646e-20</td><td>1           </td><td>1           </td></tr>\n",
       "\t<tr><td>9.999958e-01</td><td>2.234672e-14</td><td>3.523777e-06</td><td>2.868547e-08</td><td>2.517026e-08</td><td>7.909184e-09</td><td>5.297597e-07</td><td>3.951018e-08</td><td>1.907003e-10</td><td>2.379552e-08</td><td>0           </td><td>0           </td></tr>\n",
       "\t<tr><td>8.945152e-14</td><td>2.011149e-15</td><td>7.554611e-08</td><td>2.220335e-10</td><td>9.996631e-01</td><td>1.072682e-09</td><td>9.184033e-16</td><td>5.324551e-06</td><td>6.987994e-15</td><td>3.313567e-04</td><td>4           </td><td>4           </td></tr>\n",
       "</tbody>\n",
       "</table>\n"
      ],
      "text/latex": [
       "\\begin{tabular}{llllllllllll}\n",
       "  &  &  &  &  &  &  &  &  &  & Predicted & Actual\\\\\n",
       "\\hline\n",
       "\t 0.000000e+00 & 0.000000e+00 & 2.569127e-28 & 1.230663e-24 & 0.000000e+00 & 4.480586e-34 & 0.000000e+00 & 1.000000e+00 & 0.000000e+00 & 2.274963e-31 & 7            & 7           \\\\\n",
       "\t 0.000000e+00 & 6.741208e-34 & 1.000000e+00 & 6.244580e-24 & 0.000000e+00 & 0.000000e+00 & 0.000000e+00 & 0.000000e+00 & 0.000000e+00 & 0.000000e+00 & 2            & 2           \\\\\n",
       "\t 9.143721e-35 & 1.000000e+00 & 4.277748e-14 & 4.059695e-15 & 6.499437e-15 & 2.656243e-16 & 6.058126e-20 & 1.815451e-12 & 7.208062e-16 & 5.132646e-20 & 1            & 1           \\\\\n",
       "\t 9.999958e-01 & 2.234672e-14 & 3.523777e-06 & 2.868547e-08 & 2.517026e-08 & 7.909184e-09 & 5.297597e-07 & 3.951018e-08 & 1.907003e-10 & 2.379552e-08 & 0            & 0           \\\\\n",
       "\t 8.945152e-14 & 2.011149e-15 & 7.554611e-08 & 2.220335e-10 & 9.996631e-01 & 1.072682e-09 & 9.184033e-16 & 5.324551e-06 & 6.987994e-15 & 3.313567e-04 & 4            & 4           \\\\\n",
       "\\end{tabular}\n"
      ],
      "text/markdown": [
       "\n",
       "|  |  |  |  |  |  |  |  |  |  | Predicted | Actual |\n",
       "|---|---|---|---|---|---|---|---|---|---|---|---|\n",
       "| 0.000000e+00 | 0.000000e+00 | 2.569127e-28 | 1.230663e-24 | 0.000000e+00 | 4.480586e-34 | 0.000000e+00 | 1.000000e+00 | 0.000000e+00 | 2.274963e-31 | 7            | 7            |\n",
       "| 0.000000e+00 | 6.741208e-34 | 1.000000e+00 | 6.244580e-24 | 0.000000e+00 | 0.000000e+00 | 0.000000e+00 | 0.000000e+00 | 0.000000e+00 | 0.000000e+00 | 2            | 2            |\n",
       "| 9.143721e-35 | 1.000000e+00 | 4.277748e-14 | 4.059695e-15 | 6.499437e-15 | 2.656243e-16 | 6.058126e-20 | 1.815451e-12 | 7.208062e-16 | 5.132646e-20 | 1            | 1            |\n",
       "| 9.999958e-01 | 2.234672e-14 | 3.523777e-06 | 2.868547e-08 | 2.517026e-08 | 7.909184e-09 | 5.297597e-07 | 3.951018e-08 | 1.907003e-10 | 2.379552e-08 | 0            | 0            |\n",
       "| 8.945152e-14 | 2.011149e-15 | 7.554611e-08 | 2.220335e-10 | 9.996631e-01 | 1.072682e-09 | 9.184033e-16 | 5.324551e-06 | 6.987994e-15 | 3.313567e-04 | 4            | 4            |\n",
       "\n"
      ],
      "text/plain": [
       "                                                                     \n",
       "[1,] 0.000000e+00 0.000000e+00 2.569127e-28 1.230663e-24 0.000000e+00\n",
       "[2,] 0.000000e+00 6.741208e-34 1.000000e+00 6.244580e-24 0.000000e+00\n",
       "[3,] 9.143721e-35 1.000000e+00 4.277748e-14 4.059695e-15 6.499437e-15\n",
       "[4,] 9.999958e-01 2.234672e-14 3.523777e-06 2.868547e-08 2.517026e-08\n",
       "[5,] 8.945152e-14 2.011149e-15 7.554611e-08 2.220335e-10 9.996631e-01\n",
       "                                                                      Predicted\n",
       "[1,] 4.480586e-34 0.000000e+00 1.000000e+00 0.000000e+00 2.274963e-31 7        \n",
       "[2,] 0.000000e+00 0.000000e+00 0.000000e+00 0.000000e+00 0.000000e+00 2        \n",
       "[3,] 2.656243e-16 6.058126e-20 1.815451e-12 7.208062e-16 5.132646e-20 1        \n",
       "[4,] 7.909184e-09 5.297597e-07 3.951018e-08 1.907003e-10 2.379552e-08 0        \n",
       "[5,] 1.072682e-09 9.184033e-16 5.324551e-06 6.987994e-15 3.313567e-04 4        \n",
       "     Actual\n",
       "[1,] 7     \n",
       "[2,] 2     \n",
       "[3,] 1     \n",
       "[4,] 0     \n",
       "[5,] 4     "
      ]
     },
     "metadata": {},
     "output_type": "display_data"
    }
   ],
   "source": [
    "# Probabilities\n",
    "prob <- model %>% predict_proba(test_x)\n",
    "cbind(prob, Predicted = pred, Actual = mnist$test$y)[1:5,]"
   ]
  },
  {
   "cell_type": "code",
   "execution_count": 26,
   "id": "a4330b22",
   "metadata": {},
   "outputs": [
    {
     "name": "stdout",
     "output_type": "stream",
     "text": [
      "Model: \"sequential_1\"\n",
      "________________________________________________________________________________\n",
      "Layer (type)                        Output Shape                    Param #     \n",
      "================================================================================\n",
      "dense_3 (Dense)                     (None, 256)                     200960      \n",
      "________________________________________________________________________________\n",
      "dropout_2 (Dropout)                 (None, 256)                     0           \n",
      "________________________________________________________________________________\n",
      "dense_4 (Dense)                     (None, 128)                     32896       \n",
      "________________________________________________________________________________\n",
      "dropout_3 (Dropout)                 (None, 128)                     0           \n",
      "________________________________________________________________________________\n",
      "dense_5 (Dense)                     (None, 64)                      8256        \n",
      "________________________________________________________________________________\n",
      "dropout_4 (Dropout)                 (None, 64)                      0           \n",
      "________________________________________________________________________________\n",
      "dense_6 (Dense)                     (None, 10)                      650         \n",
      "================================================================================\n",
      "Total params: 242,762\n",
      "Trainable params: 242,762\n",
      "Non-trainable params: 0\n",
      "________________________________________________________________________________\n"
     ]
    }
   ],
   "source": [
    "# Making the network deeper\n",
    "model <- keras_model_sequential()\n",
    "model %>%\n",
    "    layer_dense(units=256, activation=\"relu\", input_shape=c(784)) %>%\n",
    "    layer_dropout(rate=0.4) %>%\n",
    "    layer_dense(units=128, activation=\"relu\") %>%\n",
    "    layer_dropout(rate=0.3) %>%\n",
    "    layer_dense(units=64, activation=\"relu\") %>%\n",
    "    layer_dropout(rate=0.2) %>%\n",
    "    layer_dense(units=10, activation=\"softmax\")\n",
    "summary(model)"
   ]
  },
  {
   "cell_type": "code",
   "execution_count": 27,
   "id": "ed421002",
   "metadata": {},
   "outputs": [],
   "source": [
    "# Compile model\n",
    "model %>%\n",
    "    compile(loss=\"categorical_crossentropy\",\n",
    "           optimizer=optimizer_rmsprop(),\n",
    "           metrics=\"accuracy\")"
   ]
  },
  {
   "cell_type": "code",
   "execution_count": 28,
   "id": "c9530d60",
   "metadata": {},
   "outputs": [],
   "source": [
    "# Fit model\n",
    "history <- model %>%\n",
    "    fit(train_x, train_y, epochs=50, batch_size=32, validation_split=0.2)"
   ]
  },
  {
   "cell_type": "code",
   "execution_count": 29,
   "id": "36afdcca",
   "metadata": {},
   "outputs": [
    {
     "name": "stderr",
     "output_type": "stream",
     "text": [
      "Registered S3 methods overwritten by 'ggplot2':\n",
      "  method         from \n",
      "  [.quosures     rlang\n",
      "  c.quosures     rlang\n",
      "  print.quosures rlang\n"
     ]
    },
    {
     "data": {
      "image/png": "[encoded data removed]",
      "text/plain": [
       "plot without title"
      ]
     },
     "metadata": {},
     "output_type": "display_data"
    }
   ],
   "source": [
    "# Plot history\n",
    "plot(history)"
   ]
  },
  {
   "cell_type": "code",
   "execution_count": 30,
   "id": "a8a0b132",
   "metadata": {},
   "outputs": [
    {
     "data": {
      "text/html": [
       "<dl class=dl-horizontal>\n",
       "\t<dt>loss</dt>\n",
       "\t\t<dd>0.276376307010651</dd>\n",
       "\t<dt>accuracy</dt>\n",
       "\t\t<dd>0.976499974727631</dd>\n",
       "</dl>\n"
      ],
      "text/latex": [
       "\\begin{description*}\n",
       "\\item[loss] 0.276376307010651\n",
       "\\item[accuracy] 0.976499974727631\n",
       "\\end{description*}\n"
      ],
      "text/markdown": [
       "loss\n",
       ":   0.276376307010651accuracy\n",
       ":   0.976499974727631\n",
       "\n"
      ],
      "text/plain": [
       "     loss  accuracy \n",
       "0.2763763 0.9765000 "
      ]
     },
     "metadata": {},
     "output_type": "display_data"
    }
   ],
   "source": [
    "# Evaluate model\n",
    "model %>% evaluate(test_x, test_y)"
   ]
  },
  {
   "cell_type": "code",
   "execution_count": 22,
   "id": "71753d77",
   "metadata": {},
   "outputs": [
    {
     "name": "stdout",
     "output_type": "stream",
     "text": [
      "Model: \"sequential_1\"\n",
      "________________________________________________________________________________\n",
      "Layer (type)                        Output Shape                    Param #     \n",
      "================================================================================\n",
      "dense_2 (Dense)                     (None, 512)                     401920      \n",
      "________________________________________________________________________________\n",
      "dropout (Dropout)                   (None, 512)                     0           \n",
      "________________________________________________________________________________\n",
      "dense_3 (Dense)                     (None, 256)                     131328      \n",
      "________________________________________________________________________________\n",
      "dropout_1 (Dropout)                 (None, 256)                     0           \n",
      "________________________________________________________________________________\n",
      "dense_4 (Dense)                     (None, 10)                      2570        \n",
      "================================================================================\n",
      "Total params: 535,818\n",
      "Trainable params: 535,818\n",
      "Non-trainable params: 0\n",
      "________________________________________________________________________________\n"
     ]
    }
   ],
   "source": [
    "# Trying a different architecture\n",
    "model <- keras_model_sequential()\n",
    "model %>%\n",
    "    layer_dense(units=512, activation=\"relu\", input_shape=c(784)) %>%\n",
    "    layer_dropout(rate=0.4) %>%\n",
    "    layer_dense(units=256, activation=\"relu\") %>%\n",
    "    layer_dropout(rate=0.3) %>%\n",
    "    layer_dense(units=10, activation=\"softmax\")\n",
    "summary(model)"
   ]
  },
  {
   "cell_type": "code",
   "execution_count": 23,
   "id": "4420c75b",
   "metadata": {},
   "outputs": [],
   "source": [
    "# Compile model\n",
    "model %>%\n",
    "    compile(loss=\"categorical_crossentropy\",\n",
    "            optimizer=optimizer_rmsprop(),\n",
    "            metrics=\"accuracy\")"
   ]
  },
  {
   "cell_type": "code",
   "execution_count": 24,
   "id": "4ab8b0e0",
   "metadata": {},
   "outputs": [],
   "source": [
    "# Fit model\n",
    "history <- model %>%\n",
    "    fit(train_x, train_y, epochs=30, batch_size=32, validation_split=0.2)"
   ]
  },
  {
   "cell_type": "code",
   "execution_count": 26,
   "id": "f56add09",
   "metadata": {},
   "outputs": [
    {
     "name": "stderr",
     "output_type": "stream",
     "text": [
      "Registered S3 methods overwritten by 'ggplot2':\n",
      "  method         from \n",
      "  [.quosures     rlang\n",
      "  c.quosures     rlang\n",
      "  print.quosures rlang\n"
     ]
    },
    {
     "data": {
      "image/png": "[encoded data removed]",
      "text/plain": [
       "plot without title"
      ]
     },
     "metadata": {},
     "output_type": "display_data"
    }
   ],
   "source": [
    "# Plot history\n",
    "plot(history)"
   ]
  },
  {
   "cell_type": "code",
   "execution_count": 25,
   "id": "ebbb650b",
   "metadata": {},
   "outputs": [
    {
     "data": {
      "text/html": [
       "<dl class=dl-horizontal>\n",
       "\t<dt>loss</dt>\n",
       "\t\t<dd>0.234787255525589</dd>\n",
       "\t<dt>accuracy</dt>\n",
       "\t\t<dd>0.981299996376038</dd>\n",
       "</dl>\n"
      ],
      "text/latex": [
       "\\begin{description*}\n",
       "\\item[loss] 0.234787255525589\n",
       "\\item[accuracy] 0.981299996376038\n",
       "\\end{description*}\n"
      ],
      "text/markdown": [
       "loss\n",
       ":   0.234787255525589accuracy\n",
       ":   0.981299996376038\n",
       "\n"
      ],
      "text/plain": [
       "     loss  accuracy \n",
       "0.2347873 0.9813000 "
      ]
     },
     "metadata": {},
     "output_type": "display_data"
    }
   ],
   "source": [
    "# Evaluate model\n",
    "model %>% evaluate(test_x, test_y)"
   ]
  },
  {
   "cell_type": "code",
   "execution_count": 27,
   "id": "4fce79ad",
   "metadata": {},
   "outputs": [
    {
     "data": {
      "text/plain": [
       "         Actual\n",
       "Predicted    0    1    2    3    4    5    6    7    8    9\n",
       "        0  968    0    2    2    0    2    4    0    3    2\n",
       "        1    1 1126    0    0    0    0    1    3    2    4\n",
       "        2    1    3 1016    8    4    0    0    7    1    0\n",
       "        3    0    0    1  976    0    3    0    0    1    2\n",
       "        4    1    0    1    0  963    1    3    0    4    7\n",
       "        5    2    1    0    6    0  868    2    0    2    2\n",
       "        6    4    2    2    0    3    9  946    0    2    1\n",
       "        7    1    0    6    8    2    1    0 1014    3    5\n",
       "        8    2    3    4    5    1    5    2    1  951    1\n",
       "        9    0    0    0    5    9    3    0    3    5  985"
      ]
     },
     "metadata": {},
     "output_type": "display_data"
    }
   ],
   "source": [
    "# Confusion matrix\n",
    "pred <- model %>% predict_classes(test_x)\n",
    "table(Predicted = pred, Actual = mnist$test$y)"
   ]
  },
  {
   "cell_type": "code",
   "execution_count": null,
   "id": "5b926019",
   "metadata": {},
   "outputs": [],
   "source": []
  }
 ],
 "metadata": {
  "kernelspec": {
   "display_name": "R",
   "language": "R",
   "name": "ir"
  },
  "language_info": {
   "codemirror_mode": "r",
   "file_extension": ".r",
   "mimetype": "text/x-r-source",
   "name": "R",
   "pygments_lexer": "r",
   "version": "3.6.1"
  }
 },
 "nbformat": 4,
 "nbformat_minor": 5
}
