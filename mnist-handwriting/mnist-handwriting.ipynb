{
 "cells": [
  {
   "cell_type": "markdown",
   "id": "c9aa4d82",
   "metadata": {},
   "source": [
    "# MNIST Handwriting\n",
    "MNIST stands for the Modified National Institute of Standards and Technology. The dataset used in this project contains 250 handwriting styles, split into 60,000 train and 10,000 test images. The extended MNIST dataset contains 240,000 train and 40,000 test"
   ]
  },
  {
   "cell_type": "code",
   "execution_count": 11,
   "id": "3ebc0a1f",
   "metadata": {},
   "outputs": [],
   "source": [
    "detach(\"package:keras\", unload = TRUE)"
   ]
  },
  {
   "cell_type": "code",
   "execution_count": 12,
   "id": "70a046dd",
   "metadata": {},
   "outputs": [
    {
     "name": "stdout",
     "output_type": "stream",
     "text": [
      "package 'keras' successfully unpacked and MD5 sums checked\n",
      "\n",
      "The downloaded binary packages are in\n",
      "\tC:\\Users\\alif-\\AppData\\Local\\Temp\\RtmpKiONMF\\downloaded_packages\n"
     ]
    }
   ],
   "source": [
    "install.packages(\"keras\")"
   ]
  },
  {
   "cell_type": "code",
   "execution_count": null,
   "id": "130358bf",
   "metadata": {},
   "outputs": [],
   "source": [
    "install.packages(\"BiocManager\") \n",
    "BiocManager::install(\"EBImage\")"
   ]
  },
  {
   "cell_type": "code",
   "execution_count": 13,
   "id": "9c1e22d7",
   "metadata": {},
   "outputs": [
    {
     "name": "stdout",
     "output_type": "stream",
     "text": [
      "\n",
      "Installation complete.\n",
      "\n"
     ]
    }
   ],
   "source": [
    "keras::install_keras()"
   ]
  },
  {
   "cell_type": "code",
   "execution_count": 2,
   "id": "2e3aa378",
   "metadata": {},
   "outputs": [
    {
     "name": "stderr",
     "output_type": "stream",
     "text": [
      "Warning message:\n",
      "\"package 'keras' was built under R version 3.6.3\""
     ]
    }
   ],
   "source": [
    "library(keras)\n",
    "use_backend(\"tensorflow\")"
   ]
  },
  {
   "cell_type": "code",
   "execution_count": 3,
   "id": "423c00ea",
   "metadata": {},
   "outputs": [],
   "source": [
    "library(repr)"
   ]
  },
  {
   "cell_type": "markdown",
   "id": "425e7c3e",
   "metadata": {},
   "source": [
    "# Preparing the Data\n",
    "Before feeding the data into our model, we first need to do some preprocessing. This includes unrolling them into a single row vector, and normalizing pixel intensity values to range between 0 and 1. The ground truth values should also be converted to one hot encoding format."
   ]
  },
  {
   "cell_type": "code",
   "execution_count": 4,
   "id": "450b0fbd",
   "metadata": {},
   "outputs": [],
   "source": [
    "mnist <- dataset_mnist()"
   ]
  },
  {
   "cell_type": "code",
   "execution_count": 5,
   "id": "e52e534e",
   "metadata": {},
   "outputs": [
    {
     "name": "stdout",
     "output_type": "stream",
     "text": [
      "List of 2\n",
      " $ train:List of 2\n",
      "  ..$ x: int [1:60000, 1:28, 1:28] 0 0 0 0 0 0 0 0 0 0 ...\n",
      "  ..$ y: int [1:60000(1d)] 5 0 4 1 9 2 1 3 1 4 ...\n",
      " $ test :List of 2\n",
      "  ..$ x: int [1:10000, 1:28, 1:28] 0 0 0 0 0 0 0 0 0 0 ...\n",
      "  ..$ y: int [1:10000(1d)] 7 2 1 0 4 1 4 9 5 9 ...\n"
     ]
    }
   ],
   "source": [
    "str(mnist)"
   ]
  },
  {
   "cell_type": "code",
   "execution_count": 6,
   "id": "24353f53",
   "metadata": {},
   "outputs": [],
   "source": [
    "# store training data\n",
    "train_x <- mnist$train$x\n",
    "train_y <- mnist$train$y\n",
    "\n",
    "# store test data\n",
    "test_x <- mnist$test$x\n",
    "test_y <- mnist$test$y"
   ]
  },
  {
   "cell_type": "code",
   "execution_count": 7,
   "id": "e5752536",
   "metadata": {},
   "outputs": [
    {
     "data": {
      "text/plain": [
       "       train_y\n",
       "train_y    0    1    2    3    4    5    6    7    8    9\n",
       "      0 5923    0    0    0    0    0    0    0    0    0\n",
       "      1    0 6742    0    0    0    0    0    0    0    0\n",
       "      2    0    0 5958    0    0    0    0    0    0    0\n",
       "      3    0    0    0 6131    0    0    0    0    0    0\n",
       "      4    0    0    0    0 5842    0    0    0    0    0\n",
       "      5    0    0    0    0    0 5421    0    0    0    0\n",
       "      6    0    0    0    0    0    0 5918    0    0    0\n",
       "      7    0    0    0    0    0    0    0 6265    0    0\n",
       "      8    0    0    0    0    0    0    0    0 5851    0\n",
       "      9    0    0    0    0    0    0    0    0    0 5949"
      ]
     },
     "metadata": {},
     "output_type": "display_data"
    }
   ],
   "source": [
    "table(train_y, train_y)"
   ]
  },
  {
   "cell_type": "code",
   "execution_count": 8,
   "id": "9dac0e2b",
   "metadata": {},
   "outputs": [
    {
     "data": {
      "text/plain": [
       "      test_y\n",
       "test_y    0    1    2    3    4    5    6    7    8    9\n",
       "     0  980    0    0    0    0    0    0    0    0    0\n",
       "     1    0 1135    0    0    0    0    0    0    0    0\n",
       "     2    0    0 1032    0    0    0    0    0    0    0\n",
       "     3    0    0    0 1010    0    0    0    0    0    0\n",
       "     4    0    0    0    0  982    0    0    0    0    0\n",
       "     5    0    0    0    0    0  892    0    0    0    0\n",
       "     6    0    0    0    0    0    0  958    0    0    0\n",
       "     7    0    0    0    0    0    0    0 1028    0    0\n",
       "     8    0    0    0    0    0    0    0    0  974    0\n",
       "     9    0    0    0    0    0    0    0    0    0 1009"
      ]
     },
     "metadata": {},
     "output_type": "display_data"
    }
   ],
   "source": [
    "table(test_y, test_y)"
   ]
  },
  {
   "cell_type": "code",
   "execution_count": 9,
   "id": "7e0bd473",
   "metadata": {},
   "outputs": [
    {
     "data": {
      "image/png": "[encoded data removed]",
      "text/plain": [
       "plot without title"
      ]
     },
     "metadata": {},
     "output_type": "display_data"
    }
   ],
   "source": [
    "# Plot images\n",
    "par(mfrow = c(3,3))\n",
    "for (i in 1:9) plot(as.raster(train_x[i,,], max = 255))"
   ]
  },
  {
   "cell_type": "code",
   "execution_count": 10,
   "id": "516bb890",
   "metadata": {},
   "outputs": [],
   "source": [
    "orig_train_x <- train_x"
   ]
  },
  {
   "cell_type": "code",
   "execution_count": 11,
   "id": "d3781e81",
   "metadata": {},
   "outputs": [
    {
     "name": "stdout",
     "output_type": "stream",
     "text": [
      " int [1:60000, 1:28, 1:28] 0 0 0 0 0 0 0 0 0 0 ...\n"
     ]
    }
   ],
   "source": [
    "str(train_x)"
   ]
  },
  {
   "cell_type": "code",
   "execution_count": 12,
   "id": "5d2306ce",
   "metadata": {},
   "outputs": [
    {
     "name": "stdout",
     "output_type": "stream",
     "text": [
      " num [1:60000, 1:784] 0 0 0 0 0 0 0 0 0 0 ...\n"
     ]
    }
   ],
   "source": [
    "# Unroll training examples from matrices to single vector\n",
    "train_x <- array_reshape(train_x, c(nrow(train_x), 784))\n",
    "str(train_x)"
   ]
  },
  {
   "cell_type": "code",
   "execution_count": 13,
   "id": "71d8a585",
   "metadata": {},
   "outputs": [
    {
     "name": "stdout",
     "output_type": "stream",
     "text": [
      " int [1:10000, 1:28, 1:28] 0 0 0 0 0 0 0 0 0 0 ...\n"
     ]
    }
   ],
   "source": [
    "str(test_x)"
   ]
  },
  {
   "cell_type": "code",
   "execution_count": 14,
   "id": "2647b5ec",
   "metadata": {},
   "outputs": [
    {
     "name": "stdout",
     "output_type": "stream",
     "text": [
      " num [1:10000, 1:784] 0 0 0 0 0 0 0 0 0 0 ...\n"
     ]
    }
   ],
   "source": [
    "# Unroll test examples from matrices to single vector\n",
    "test_x <- array_reshape(test_x, c(nrow(test_x), 784))\n",
    "str(test_x)"
   ]
  },
  {
   "cell_type": "code",
   "execution_count": 15,
   "id": "57067ad3",
   "metadata": {},
   "outputs": [],
   "source": [
    "# Normalize train and test data so values range from 0 to 1\n",
    "train_x <- train_x / 255\n",
    "test_x <- test_x / 255"
   ]
  },
  {
   "cell_type": "code",
   "execution_count": 16,
   "id": "31e91a0b",
   "metadata": {},
   "outputs": [
    {
     "data": {
      "image/png": "[encoded data removed]",
      "text/plain": [
       "Plot with title \"Histogram of train_x[1, ]\""
      ]
     },
     "metadata": {},
     "output_type": "display_data"
    }
   ],
   "source": [
    "# View the original and normalized datasets\n",
    "par(mfrow=c(1,2))\n",
    "options(repr.plot.width=8, repr.plot.height=3)\n",
    "hist(orig_train_x[1,,])\n",
    "hist(train_x[1,])"
   ]
  },
  {
   "cell_type": "code",
   "execution_count": 17,
   "id": "5afaf283",
   "metadata": {},
   "outputs": [],
   "source": [
    "# One hot encoding\n",
    "train_y <- to_categorical(train_y, 10)\n",
    "test_y <- to_categorical(test_y, 10)"
   ]
  },
  {
   "cell_type": "markdown",
   "id": "03bf1ef1",
   "metadata": {},
   "source": [
    "# Some Extra Test Data\n",
    "For this project, I'd also like to test the model on my own handwriting. Below is some preprocessing of my handwriting data to match the training data format."
   ]
  },
  {
   "cell_type": "code",
   "execution_count": 18,
   "id": "5b926019",
   "metadata": {},
   "outputs": [],
   "source": [
    "# Import samples of my own handwriting\n",
    "library(EBImage)\n",
    "setwd(\"C:\\\\Users\\\\alif-\\\\Projects\\\\r-tensorflow\\\\mnist-handwriting\\\\examples\")\n",
    "examples = list.files(pattern = \"*.jpg\")"
   ]
  },
  {
   "cell_type": "code",
   "execution_count": 19,
   "id": "eccf3d6c",
   "metadata": {},
   "outputs": [],
   "source": [
    "mypic <- list()\n",
    "for (i in 1:length(examples)) {mypic[[i]] <- readImage(examples[[i]])}"
   ]
  },
  {
   "cell_type": "code",
   "execution_count": 20,
   "id": "1c4594cb",
   "metadata": {},
   "outputs": [
    {
     "name": "stdout",
     "output_type": "stream",
     "text": [
      "List of 6\n",
      " $ :Formal class 'Image' [package \"EBImage\"] with 2 slots\n",
      "  .. ..@ .Data    : num [1:381, 1:377, 1:3] 1 1 1 1 1 1 1 1 1 1 ...\n",
      "  .. ..@ colormode: int 2\n",
      " $ :Formal class 'Image' [package \"EBImage\"] with 2 slots\n",
      "  .. ..@ .Data    : num [1:395, 1:392, 1:3] 1 1 1 1 1 1 1 1 1 1 ...\n",
      "  .. ..@ colormode: int 2\n",
      " $ :Formal class 'Image' [package \"EBImage\"] with 2 slots\n",
      "  .. ..@ .Data    : num [1:408, 1:392, 1:3] 1 1 1 1 1 1 1 1 1 1 ...\n",
      "  .. ..@ colormode: int 2\n",
      " $ :Formal class 'Image' [package \"EBImage\"] with 2 slots\n",
      "  .. ..@ .Data    : num [1:427, 1:405, 1:3] 1 1 1 1 1 1 1 1 1 1 ...\n",
      "  .. ..@ colormode: int 2\n",
      " $ :Formal class 'Image' [package \"EBImage\"] with 2 slots\n",
      "  .. ..@ .Data    : num [1:437, 1:433, 1:3] 1 1 1 1 1 1 1 1 1 1 ...\n",
      "  .. ..@ colormode: int 2\n",
      " $ :Formal class 'Image' [package \"EBImage\"] with 2 slots\n",
      "  .. ..@ .Data    : num [1:439, 1:419, 1:3] 1 1 1 1 1 1 1 1 1 1 ...\n",
      "  .. ..@ colormode: int 2\n"
     ]
    }
   ],
   "source": [
    "par(mfrow=c(1,1))\n",
    "str(mypic)"
   ]
  },
  {
   "cell_type": "code",
   "execution_count": 21,
   "id": "27985e3e",
   "metadata": {},
   "outputs": [
    {
     "name": "stderr",
     "output_type": "stream",
     "text": [
      "Only the first frame of the image stack is displayed.\n",
      "To display all frames use 'all = TRUE'.\n",
      "Only the first frame of the image stack is displayed.\n",
      "To display all frames use 'all = TRUE'.\n",
      "Only the first frame of the image stack is displayed.\n",
      "To display all frames use 'all = TRUE'.\n",
      "Only the first frame of the image stack is displayed.\n",
      "To display all frames use 'all = TRUE'.\n",
      "Only the first frame of the image stack is displayed.\n",
      "To display all frames use 'all = TRUE'.\n",
      "Only the first frame of the image stack is displayed.\n",
      "To display all frames use 'all = TRUE'.\n"
     ]
    },
    {
     "data": {
      "image/png": "[encoded data removed]",
      "text/plain": [
       "plot without title"
      ]
     },
     "metadata": {},
     "output_type": "display_data"
    }
   ],
   "source": [
    "for (i in 1:length(examples)) {colorMode(mypic[[i]]) <- Grayscale}\n",
    "for (i in 1:length(examples)) {mypic[[i]] <- 1-mypic[[i]]}\n",
    "for (i in 1:length(examples)) {mypic[[i]] <- resize(mypic[[i]], 28, 28)}\n",
    "par(mfrow=c(2,3))\n",
    "for (i in 1:length(examples)) plot(mypic[[i]])\n"
   ]
  },
  {
   "cell_type": "code",
   "execution_count": 22,
   "id": "2d395578",
   "metadata": {},
   "outputs": [
    {
     "name": "stdout",
     "output_type": "stream",
     "text": [
      " num [1:6, 1:2352] 0 0 0 0 0 0 0 0 0 0 ...\n"
     ]
    }
   ],
   "source": [
    "for (i in 1:length(examples)) {mypic[[i]] <- array_reshape(mypic[[i]], c(28,28,3))}\n",
    "new <- NULL\n",
    "for (i in 1:length(examples)) {new <- rbind(new, mypic[[i]])}\n",
    "str(new)"
   ]
  },
  {
   "cell_type": "code",
   "execution_count": 23,
   "id": "332ef5f6",
   "metadata": {},
   "outputs": [],
   "source": [
    "new_x <- new[,1:784]\n",
    "new_y <- c(0,2,3,4,5,9)"
   ]
  },
  {
   "cell_type": "markdown",
   "id": "e6cf0dce",
   "metadata": {},
   "source": [
    "# Creating a Model\n",
    "Now that the data has been preprocessed, we can create our machine learning model. To start, we can use a simple single-layer neural network with one ReLU hidden layer and a softmax output layer."
   ]
  },
  {
   "cell_type": "code",
   "execution_count": 24,
   "id": "50cd3903",
   "metadata": {},
   "outputs": [
    {
     "name": "stdout",
     "output_type": "stream",
     "text": [
      "Model: \"sequential\"\n",
      "________________________________________________________________________________\n",
      "Layer (type)                        Output Shape                    Param #     \n",
      "================================================================================\n",
      "dense (Dense)                       (None, 128)                     100480      \n",
      "________________________________________________________________________________\n",
      "dense_1 (Dense)                     (None, 10)                      1290        \n",
      "================================================================================\n",
      "Total params: 101,770\n",
      "Trainable params: 101,770\n",
      "Non-trainable params: 0\n",
      "________________________________________________________________________________\n"
     ]
    }
   ],
   "source": [
    "# Create model\n",
    "model <- keras_model_sequential()\n",
    "model %>%\n",
    "    layer_dense(units=128, activation=\"relu\", input_shape=c(784)) %>%\n",
    "    layer_dense(units=10, activation=\"softmax\")\n",
    "summary(model)"
   ]
  },
  {
   "cell_type": "code",
   "execution_count": 25,
   "id": "3c0cb04e",
   "metadata": {},
   "outputs": [],
   "source": [
    "# Compile model\n",
    "model %>%\n",
    "    compile(loss=\"categorical_crossentropy\",\n",
    "           optimizer=optimizer_rmsprop(),\n",
    "           metrics=\"accuracy\")"
   ]
  },
  {
   "cell_type": "code",
   "execution_count": 28,
   "id": "70e55481",
   "metadata": {},
   "outputs": [],
   "source": [
    "# Fit model\n",
    "history <- model %>%\n",
    "    fit(train_x, train_y, epochs=50, batch_size=32, validation_split=0.2)"
   ]
  },
  {
   "cell_type": "code",
   "execution_count": 36,
   "id": "e9a2c5cd",
   "metadata": {},
   "outputs": [
    {
     "data": {
      "image/png": "[encoded data removed]",
      "text/plain": [
       "plot without title"
      ]
     },
     "metadata": {},
     "output_type": "display_data"
    }
   ],
   "source": [
    "plot(history)"
   ]
  },
  {
   "cell_type": "code",
   "execution_count": 40,
   "id": "92080592",
   "metadata": {},
   "outputs": [
    {
     "data": {
      "text/html": [
       "<dl class=dl-horizontal>\n",
       "\t<dt>loss</dt>\n",
       "\t\t<dd>0.235971868038177</dd>\n",
       "\t<dt>accuracy</dt>\n",
       "\t\t<dd>0.975600004196167</dd>\n",
       "</dl>\n"
      ],
      "text/latex": [
       "\\begin{description*}\n",
       "\\item[loss] 0.235971868038177\n",
       "\\item[accuracy] 0.975600004196167\n",
       "\\end{description*}\n"
      ],
      "text/markdown": [
       "loss\n",
       ":   0.235971868038177accuracy\n",
       ":   0.975600004196167\n",
       "\n"
      ],
      "text/plain": [
       "     loss  accuracy \n",
       "0.2359719 0.9756000 "
      ]
     },
     "metadata": {},
     "output_type": "display_data"
    }
   ],
   "source": [
    "# Evaluation and prediction on test data\n",
    "model %>% evaluate(test_x, test_y)"
   ]
  },
  {
   "cell_type": "code",
   "execution_count": 39,
   "id": "6ac49b32",
   "metadata": {},
   "outputs": [
    {
     "data": {
      "text/plain": [
       "         Actual\n",
       "Predicted    0    1    2    3    4    5    6    7    8    9\n",
       "        0  967    0    3    2    0    4    2    0    3    1\n",
       "        1    0 1122    1    0    0    0    2    5    3    2\n",
       "        2    0    4 1001    3    4    0    1    8    6    0\n",
       "        3    1    1    4  987    0   10    2    5    7    5\n",
       "        4    2    0    4    1  955    1    5    1    4    7\n",
       "        5    1    0    0    5    0  865    6    0    6    3\n",
       "        6    4    3    4    0    7    5  939    0    2    2\n",
       "        7    2    2    7    2    4    1    0  999    3    3\n",
       "        8    2    2    8    5    1    1    0    3  936    1\n",
       "        9    1    1    0    5   11    5    1    7    4  985"
      ]
     },
     "metadata": {},
     "output_type": "display_data"
    }
   ],
   "source": [
    "# Create confusion matrix\n",
    "pred <- model %>% predict_classes(test_x)\n",
    "table(Predicted = pred, Actual = mnist$test$y)"
   ]
  },
  {
   "cell_type": "code",
   "execution_count": 30,
   "id": "57e72c0f",
   "metadata": {},
   "outputs": [
    {
     "data": {
      "text/plain": [
       "         Actual\n",
       "Predicted 0 2 3 4 5 9\n",
       "        0 1 0 0 0 0 0\n",
       "        2 0 1 0 0 0 1\n",
       "        3 0 0 1 0 0 0\n",
       "        5 0 0 0 0 1 0\n",
       "        9 0 0 0 1 0 0"
      ]
     },
     "metadata": {},
     "output_type": "display_data"
    }
   ],
   "source": [
    "# Predictions on my own handwriting\n",
    "pred <- model %>% predict_classes(new_x)\n",
    "# Confusion matrix\n",
    "table(Predicted = pred, Actual = new_y)"
   ]
  },
  {
   "cell_type": "markdown",
   "id": "5fc2c32a",
   "metadata": {},
   "source": [
    "# Trying a Deeper Network\n",
    "To further improve the network, we can make it deeper. This deeper network should be a mix of dense and dropout layers so that we avoid overfitting on the train dataset. We can also try using the Adam optimizer instead of RMSProp. "
   ]
  },
  {
   "cell_type": "code",
   "execution_count": 76,
   "id": "4776d220",
   "metadata": {},
   "outputs": [
    {
     "name": "stdout",
     "output_type": "stream",
     "text": [
      "Model: \"sequential_3\"\n",
      "________________________________________________________________________________\n",
      "Layer (type)                        Output Shape                    Param #     \n",
      "================================================================================\n",
      "dense_8 (Dense)                     (None, 512)                     401920      \n",
      "________________________________________________________________________________\n",
      "dropout_4 (Dropout)                 (None, 512)                     0           \n",
      "________________________________________________________________________________\n",
      "dense_9 (Dense)                     (None, 256)                     131328      \n",
      "________________________________________________________________________________\n",
      "dropout_5 (Dropout)                 (None, 256)                     0           \n",
      "________________________________________________________________________________\n",
      "dense_10 (Dense)                    (None, 10)                      2570        \n",
      "================================================================================\n",
      "Total params: 535,818\n",
      "Trainable params: 535,818\n",
      "Non-trainable params: 0\n",
      "________________________________________________________________________________\n"
     ]
    }
   ],
   "source": [
    "# Making the network deeper\n",
    "model <- keras_model_sequential()\n",
    "model %>%\n",
    "    layer_dense(units=512, activation=\"relu\", input_shape=c(784)) %>%\n",
    "    layer_dropout(rate=0.4) %>%\n",
    "    layer_dense(units=256, activation=\"relu\") %>%\n",
    "    layer_dropout(rate=0.3) %>%\n",
    "    layer_dense(units=10, activation=\"softmax\")\n",
    "summary(model)"
   ]
  },
  {
   "cell_type": "code",
   "execution_count": 77,
   "id": "4427635f",
   "metadata": {},
   "outputs": [],
   "source": [
    "# Compile model\n",
    "model %>%\n",
    "    compile(loss=\"categorical_crossentropy\",\n",
    "           optimizer=optimizer_adam(),\n",
    "           metrics=\"accuracy\")"
   ]
  },
  {
   "cell_type": "code",
   "execution_count": 78,
   "id": "c9530d60",
   "metadata": {},
   "outputs": [],
   "source": [
    "# Fit model\n",
    "history <- model %>%\n",
    "    fit(train_x, train_y, epochs=30, batch_size=32, validation_split=0.2)"
   ]
  },
  {
   "cell_type": "code",
   "execution_count": 79,
   "id": "371032c8",
   "metadata": {},
   "outputs": [
    {
     "data": {
      "image/png": "[encoded data removed]",
      "text/plain": [
       "plot without title"
      ]
     },
     "metadata": {},
     "output_type": "display_data"
    }
   ],
   "source": [
    "# Plot history\n",
    "plot(history)"
   ]
  },
  {
   "cell_type": "code",
   "execution_count": 83,
   "id": "98ab1bfb",
   "metadata": {},
   "outputs": [
    {
     "data": {
      "text/html": [
       "<dl class=dl-horizontal>\n",
       "\t<dt>loss</dt>\n",
       "\t\t<dd>0.0859459936618805</dd>\n",
       "\t<dt>accuracy</dt>\n",
       "\t\t<dd>0.982800006866455</dd>\n",
       "</dl>\n"
      ],
      "text/latex": [
       "\\begin{description*}\n",
       "\\item[loss] 0.0859459936618805\n",
       "\\item[accuracy] 0.982800006866455\n",
       "\\end{description*}\n"
      ],
      "text/markdown": [
       "loss\n",
       ":   0.0859459936618805accuracy\n",
       ":   0.982800006866455\n",
       "\n"
      ],
      "text/plain": [
       "      loss   accuracy \n",
       "0.08594599 0.98280001 "
      ]
     },
     "metadata": {},
     "output_type": "display_data"
    }
   ],
   "source": [
    "# Evaluate model\n",
    "model %>% evaluate(test_x, test_y)"
   ]
  },
  {
   "cell_type": "code",
   "execution_count": 84,
   "id": "624f56df",
   "metadata": {},
   "outputs": [
    {
     "data": {
      "text/plain": [
       "         Actual\n",
       "Predicted    0    1    2    3    4    5    6    7    8    9\n",
       "        0  972    0    2    0    1    2    2    0    2    1\n",
       "        1    1 1124    0    0    1    0    2    5    1    3\n",
       "        2    0    2 1017    1    2    0    0    5    1    0\n",
       "        3    1    4    3  993    1    8    1    3    4    2\n",
       "        4    0    0    1    0  956    1    2    0    0    8\n",
       "        5    0    0    0    7    0  871    2    0    3    4\n",
       "        6    2    3    1    0    4    7  949    0    1    1\n",
       "        7    1    0    4    4    2    0    0 1007    3    6\n",
       "        8    3    2    4    0    0    2    0    2  955    0\n",
       "        9    0    0    0    5   15    1    0    6    4  984"
      ]
     },
     "metadata": {},
     "output_type": "display_data"
    }
   ],
   "source": [
    "# Confusion matrix\n",
    "pred <- model %>% predict_classes(test_x)\n",
    "table(Predicted = pred, Actual = mnist$test$y)"
   ]
  },
  {
   "cell_type": "code",
   "execution_count": 82,
   "id": "a5d51d12",
   "metadata": {},
   "outputs": [
    {
     "data": {
      "text/plain": [
       "         Actual\n",
       "Predicted 0 2 3 4 5 9\n",
       "        0 1 0 0 0 0 0\n",
       "        2 0 1 0 0 0 0\n",
       "        3 0 0 1 0 0 1\n",
       "        5 0 0 0 0 1 0\n",
       "        9 0 0 0 1 0 0"
      ]
     },
     "metadata": {},
     "output_type": "display_data"
    }
   ],
   "source": [
    "# Predictions on my own handwriting\n",
    "pred <- model %>% predict_classes(new_x)\n",
    "# Confusion matrix\n",
    "table(Predicted = pred, Actual = new_y)"
   ]
  },
  {
   "cell_type": "markdown",
   "id": "67ed389a",
   "metadata": {},
   "source": [
    "# Closing Thoughts\n",
    "Though we were able to achieve lower loss and higher accuracy with a deeper network, ultimately the model still struggled to predict the numbers 9 and 4 accurately. This is likely because they look so similar. In the future, more training epochs may help mitigate this."
   ]
  }
 ],
 "metadata": {
  "kernelspec": {
   "display_name": "R",
   "language": "R",
   "name": "ir"
  },
  "language_info": {
   "codemirror_mode": "r",
   "file_extension": ".r",
   "mimetype": "text/x-r-source",
   "name": "R",
   "pygments_lexer": "r",
   "version": "3.6.1"
  }
 },
 "nbformat": 4,
 "nbformat_minor": 5
}
