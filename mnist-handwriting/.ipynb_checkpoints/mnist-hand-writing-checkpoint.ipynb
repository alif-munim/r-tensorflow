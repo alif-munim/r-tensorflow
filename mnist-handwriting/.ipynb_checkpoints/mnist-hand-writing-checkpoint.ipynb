{
 "cells": [
  {
   "cell_type": "markdown",
   "id": "c9aa4d82",
   "metadata": {},
   "source": [
    "### MNIST Handwriting\n",
    "MNIST stands for the Modified National Institute of Standards and Technology. The dataset used in this project contains 250 handwriting styles, split into 60,000 train and 10,000 test images. The extended MNIST dataset contains 240,000 train and 40,000 test"
   ]
  },
  {
   "cell_type": "code",
   "execution_count": 4,
   "id": "3ebc0a1f",
   "metadata": {},
   "outputs": [],
   "source": [
    "detach(\"package:keras\", unload = TRUE)"
   ]
  },
  {
   "cell_type": "code",
   "execution_count": 5,
   "id": "70a046dd",
   "metadata": {},
   "outputs": [
    {
     "name": "stdout",
     "output_type": "stream",
     "text": [
      "package 'keras' successfully unpacked and MD5 sums checked\n",
      "\n",
      "The downloaded binary packages are in\n",
      "\tC:\\Users\\alif-\\AppData\\Local\\Temp\\RtmpO4tDU0\\downloaded_packages\n"
     ]
    }
   ],
   "source": [
    "install.packages(\"keras\")"
   ]
  },
  {
   "cell_type": "code",
   "execution_count": 6,
   "id": "9c1e22d7",
   "metadata": {},
   "outputs": [
    {
     "name": "stdout",
     "output_type": "stream",
     "text": [
      "\n",
      "Installation complete.\n",
      "\n"
     ]
    }
   ],
   "source": [
    "keras::install_keras()"
   ]
  },
  {
   "cell_type": "code",
   "execution_count": 7,
   "id": "2e3aa378",
   "metadata": {},
   "outputs": [
    {
     "name": "stderr",
     "output_type": "stream",
     "text": [
      "Warning message:\n",
      "\"package 'keras' was built under R version 3.6.3\""
     ]
    }
   ],
   "source": [
    "library(keras)"
   ]
  },
  {
   "cell_type": "code",
   "execution_count": 8,
   "id": "450b0fbd",
   "metadata": {},
   "outputs": [],
   "source": [
    "mnist <- dataset_mnist()"
   ]
  },
  {
   "cell_type": "code",
   "execution_count": 9,
   "id": "e52e534e",
   "metadata": {},
   "outputs": [
    {
     "name": "stdout",
     "output_type": "stream",
     "text": [
      "List of 2\n",
      " $ train:List of 2\n",
      "  ..$ x: int [1:60000, 1:28, 1:28] 0 0 0 0 0 0 0 0 0 0 ...\n",
      "  ..$ y: int [1:60000(1d)] 5 0 4 1 9 2 1 3 1 4 ...\n",
      " $ test :List of 2\n",
      "  ..$ x: int [1:10000, 1:28, 1:28] 0 0 0 0 0 0 0 0 0 0 ...\n",
      "  ..$ y: int [1:10000(1d)] 7 2 1 0 4 1 4 9 5 9 ...\n"
     ]
    }
   ],
   "source": [
    "str(mnist)"
   ]
  },
  {
   "cell_type": "code",
   "execution_count": 39,
   "id": "24353f53",
   "metadata": {},
   "outputs": [],
   "source": [
    "# store training data\n",
    "train_x <- mnist$train$x\n",
    "train_y <- mnist$train$y\n",
    "\n",
    "# store test data\n",
    "test_x <- mnist$test$x\n",
    "test_y <- mnist$test$y"
   ]
  },
  {
   "cell_type": "code",
   "execution_count": 45,
   "id": "e5752536",
   "metadata": {},
   "outputs": [
    {
     "data": {
      "text/plain": [
       "       train_y\n",
       "train_y    0    1    2    3    4    5    6    7    8    9\n",
       "      0 5923    0    0    0    0    0    0    0    0    0\n",
       "      1    0 6742    0    0    0    0    0    0    0    0\n",
       "      2    0    0 5958    0    0    0    0    0    0    0\n",
       "      3    0    0    0 6131    0    0    0    0    0    0\n",
       "      4    0    0    0    0 5842    0    0    0    0    0\n",
       "      5    0    0    0    0    0 5421    0    0    0    0\n",
       "      6    0    0    0    0    0    0 5918    0    0    0\n",
       "      7    0    0    0    0    0    0    0 6265    0    0\n",
       "      8    0    0    0    0    0    0    0    0 5851    0\n",
       "      9    0    0    0    0    0    0    0    0    0 5949"
      ]
     },
     "metadata": {},
     "output_type": "display_data"
    }
   ],
   "source": [
    "table(train_y, train_y)"
   ]
  },
  {
   "cell_type": "code",
   "execution_count": 46,
   "id": "9dac0e2b",
   "metadata": {},
   "outputs": [
    {
     "data": {
      "text/plain": [
       "      test_y\n",
       "test_y    0    1    2    3    4    5    6    7    8    9\n",
       "     0  980    0    0    0    0    0    0    0    0    0\n",
       "     1    0 1135    0    0    0    0    0    0    0    0\n",
       "     2    0    0 1032    0    0    0    0    0    0    0\n",
       "     3    0    0    0 1010    0    0    0    0    0    0\n",
       "     4    0    0    0    0  982    0    0    0    0    0\n",
       "     5    0    0    0    0    0  892    0    0    0    0\n",
       "     6    0    0    0    0    0    0  958    0    0    0\n",
       "     7    0    0    0    0    0    0    0 1028    0    0\n",
       "     8    0    0    0    0    0    0    0    0  974    0\n",
       "     9    0    0    0    0    0    0    0    0    0 1009"
      ]
     },
     "metadata": {},
     "output_type": "display_data"
    }
   ],
   "source": [
    "table(test_y, test_y)"
   ]
  },
  {
   "cell_type": "code",
   "execution_count": 47,
   "id": "7e0bd473",
   "metadata": {},
   "outputs": [
    {
     "data": {
      "image/png": "[encoded data removed]",
      "text/plain": [
       "plot without title"
      ]
     },
     "metadata": {},
     "output_type": "display_data"
    }
   ],
   "source": [
    "# Plot images\n",
    "par(mfrow = c(3,3))\n",
    "for (i in 1:9) plot(as.raster(train_x[i,,], max = 255))"
   ]
  },
  {
   "cell_type": "code",
   "execution_count": 48,
   "id": "516bb890",
   "metadata": {},
   "outputs": [
    {
     "data": {
      "image/png": "[encoded data removed]",
      "text/plain": [
       "Plot with title \"Histogram of train_x[1, , ]\""
      ]
     },
     "metadata": {},
     "output_type": "display_data"
    }
   ],
   "source": [
    "hist(train_x[1,,])"
   ]
  },
  {
   "cell_type": "code",
   "execution_count": 49,
   "id": "d3781e81",
   "metadata": {},
   "outputs": [
    {
     "name": "stdout",
     "output_type": "stream",
     "text": [
      " int [1:60000, 1:28, 1:28] 0 0 0 0 0 0 0 0 0 0 ...\n"
     ]
    }
   ],
   "source": [
    "str(train_x)"
   ]
  },
  {
   "cell_type": "code",
   "execution_count": 50,
   "id": "5d2306ce",
   "metadata": {},
   "outputs": [
    {
     "name": "stdout",
     "output_type": "stream",
     "text": [
      " num [1:60000, 1:784] 0 0 0 0 0 0 0 0 0 0 ...\n"
     ]
    }
   ],
   "source": [
    "# Unroll training examples from matrices to single vector\n",
    "train_x <- array_reshape(train_x, c(nrow(train_x), 784))\n",
    "str(train_x)"
   ]
  },
  {
   "cell_type": "code",
   "execution_count": 51,
   "id": "71d8a585",
   "metadata": {},
   "outputs": [
    {
     "name": "stdout",
     "output_type": "stream",
     "text": [
      " int [1:10000, 1:28, 1:28] 0 0 0 0 0 0 0 0 0 0 ...\n"
     ]
    }
   ],
   "source": [
    "str(test_x)"
   ]
  },
  {
   "cell_type": "code",
   "execution_count": 52,
   "id": "2647b5ec",
   "metadata": {},
   "outputs": [
    {
     "name": "stdout",
     "output_type": "stream",
     "text": [
      " num [1:10000, 1:784] 0 0 0 0 0 0 0 0 0 0 ...\n"
     ]
    }
   ],
   "source": [
    "# Unroll test examples from matrices to single vector\n",
    "test_x <- array_reshape(test_x, c(nrow(test_x), 784))\n",
    "str(test_x)"
   ]
  },
  {
   "cell_type": "code",
   "execution_count": 53,
   "id": "57067ad3",
   "metadata": {},
   "outputs": [],
   "source": [
    "# Normalize train and test data so values range from 0 to 1\n",
    "train_x <- train_x / 255\n",
    "test_x <- test_x / 255"
   ]
  },
  {
   "cell_type": "code",
   "execution_count": 54,
   "id": "31e91a0b",
   "metadata": {},
   "outputs": [
    {
     "data": {
      "image/png": "[encoded data removed]",
      "text/plain": [
       "Plot with title \"Histogram of train_x[1, ]\""
      ]
     },
     "metadata": {},
     "output_type": "display_data"
    }
   ],
   "source": [
    "hist(train_x[1,])"
   ]
  },
  {
   "cell_type": "code",
   "execution_count": 44,
   "id": "872bcd8e",
   "metadata": {},
   "outputs": [
    {
     "data": {
      "text/html": [
       "5"
      ],
      "text/latex": [
       "5"
      ],
      "text/markdown": [
       "5"
      ],
      "text/plain": [
       "[1] 5"
      ]
     },
     "metadata": {},
     "output_type": "display_data"
    }
   ],
   "source": [
    "train_y[1]"
   ]
  },
  {
   "cell_type": "code",
   "execution_count": 55,
   "id": "5afaf283",
   "metadata": {},
   "outputs": [],
   "source": [
    "# One hot encoding\n",
    "train_y <- to_categorical(train_y, 10)\n",
    "test_y <- to_categorical(test_y, 10)"
   ]
  },
  {
   "cell_type": "code",
   "execution_count": 56,
   "id": "63e0f36f",
   "metadata": {},
   "outputs": [
    {
     "data": {
      "text/html": [
       "<ol class=list-inline>\n",
       "\t<li>0</li>\n",
       "\t<li>0</li>\n",
       "\t<li>0</li>\n",
       "\t<li>0</li>\n",
       "\t<li>0</li>\n",
       "\t<li>1</li>\n",
       "\t<li>0</li>\n",
       "\t<li>0</li>\n",
       "\t<li>0</li>\n",
       "\t<li>0</li>\n",
       "</ol>\n"
      ],
      "text/latex": [
       "\\begin{enumerate*}\n",
       "\\item 0\n",
       "\\item 0\n",
       "\\item 0\n",
       "\\item 0\n",
       "\\item 0\n",
       "\\item 1\n",
       "\\item 0\n",
       "\\item 0\n",
       "\\item 0\n",
       "\\item 0\n",
       "\\end{enumerate*}\n"
      ],
      "text/markdown": [
       "1. 0\n",
       "2. 0\n",
       "3. 0\n",
       "4. 0\n",
       "5. 0\n",
       "6. 1\n",
       "7. 0\n",
       "8. 0\n",
       "9. 0\n",
       "10. 0\n",
       "\n",
       "\n"
      ],
      "text/plain": [
       " [1] 0 0 0 0 0 1 0 0 0 0"
      ]
     },
     "metadata": {},
     "output_type": "display_data"
    }
   ],
   "source": [
    "train_y[1,]"
   ]
  },
  {
   "cell_type": "code",
   "execution_count": 58,
   "id": "50cd3903",
   "metadata": {},
   "outputs": [
    {
     "name": "stdout",
     "output_type": "stream",
     "text": [
      "Model: \"sequential_1\"\n",
      "________________________________________________________________________________\n",
      "Layer (type)                        Output Shape                    Param #     \n",
      "================================================================================\n",
      "dense (Dense)                       (None, 128)                     95872       \n",
      "________________________________________________________________________________\n",
      "dense_1 (Dense)                     (None, 10)                      1290        \n",
      "================================================================================\n",
      "Total params: 97,162\n",
      "Trainable params: 97,162\n",
      "Non-trainable params: 0\n",
      "________________________________________________________________________________\n"
     ]
    }
   ],
   "source": [
    "# Create model\n",
    "model <- keras_model_sequential()\n",
    "model %>%\n",
    "    layer_dense(units=128, activation=\"relu\", input_shape=c(748)) %>%\n",
    "    layer_dense(units=10, activation=\"softmax\")\n",
    "summary(model)"
   ]
  },
  {
   "cell_type": "code",
   "execution_count": 59,
   "id": "3c0cb04e",
   "metadata": {},
   "outputs": [],
   "source": [
    "# Compile model\n",
    "model %>%\n",
    "    compile(loss=\"categorical_crossentropy\",\n",
    "           optimizer=optimizer_rmsprop(),\n",
    "           metrics=\"accuracy\")"
   ]
  },
  {
   "cell_type": "code",
   "execution_count": null,
   "id": "70e55481",
   "metadata": {},
   "outputs": [],
   "source": [
    "# Fit model\n",
    "history <- model %>%\n",
    "    fit(train_x, train_y, epochs=50, batch_size=32, validation_split=0.2)"
   ]
  },
  {
   "cell_type": "code",
   "execution_count": null,
   "id": "918847c8",
   "metadata": {},
   "outputs": [],
   "source": []
  }
 ],
 "metadata": {
  "kernelspec": {
   "display_name": "R",
   "language": "R",
   "name": "ir"
  },
  "language_info": {
   "codemirror_mode": "r",
   "file_extension": ".r",
   "mimetype": "text/x-r-source",
   "name": "R",
   "pygments_lexer": "r",
   "version": "3.6.1"
  }
 },
 "nbformat": 4,
 "nbformat_minor": 5
}
