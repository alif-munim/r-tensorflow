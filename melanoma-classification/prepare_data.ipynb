{
 "cells": [
  {
   "cell_type": "code",
   "execution_count": 7,
   "id": "ba3b899b",
   "metadata": {},
   "outputs": [],
   "source": [
    "import os\n",
    "import shutil\n",
    "import random"
   ]
  },
  {
   "cell_type": "code",
   "execution_count": 8,
   "id": "fabee2c2",
   "metadata": {},
   "outputs": [],
   "source": [
    "seed = 1\n",
    "random.seed(seed)\n",
    "directory = \"ISIC/images/\"\n",
    "train = \"data/train/\"\n",
    "test = \"data/test/\"\n",
    "validation = 'data/validation/'"
   ]
  },
  {
   "cell_type": "code",
   "execution_count": 4,
   "id": "6edf0337",
   "metadata": {},
   "outputs": [],
   "source": [
    "os.makedirs(train + \"benign/\")\n",
    "os.makedirs(train + \"malignant/\")"
   ]
  },
  {
   "cell_type": "code",
   "execution_count": null,
   "id": "820b6c4e",
   "metadata": {},
   "outputs": [],
   "source": [
    "os.makedirs(test + \"benign/\")\n",
    "os.makedirs(test + \"malignant/\")"
   ]
  },
  {
   "cell_type": "code",
   "execution_count": 7,
   "id": "82c4a314",
   "metadata": {},
   "outputs": [],
   "source": [
    "os.makedirs(validation + \"benign/\")\n",
    "os.makedirs(validation + \"malignant/\")"
   ]
  },
  {
   "cell_type": "code",
   "execution_count": 9,
   "id": "98dd5248",
   "metadata": {},
   "outputs": [],
   "source": [
    "test_examples = train_examples = validation_examples = 0"
   ]
  },
  {
   "cell_type": "code",
   "execution_count": 12,
   "id": "cb704f0b",
   "metadata": {},
   "outputs": [],
   "source": [
    "for line in open(\"labels_2k_shuffled_b.csv\").readlines()[1:]:\n",
    "    split_line = line.split(\",\")\n",
    "    img_file = split_line[0].replace(\"\\\"\",\"\")\n",
    "    benign_malign = split_line[2]\n",
    "    \n",
    "    random_num = random.random()\n",
    "    if random_num < 0.8:\n",
    "        location = train\n",
    "        train_examples += 1\n",
    "    elif random_num < 0.9:\n",
    "        location = validation\n",
    "        validation_examples += 1\n",
    "    else:\n",
    "        location = test\n",
    "        test_examples += 1\n",
    "        \n",
    "    if int(float(benign_malign)) == 0:\n",
    "        shutil.copy(\n",
    "            \"images/\" + img_file,\n",
    "            location + \"benign/\" + img_file + \".jpg\"\n",
    "        )\n",
    "    else:\n",
    "        shutil.copy(\n",
    "            \"images/\" + img_file,\n",
    "            location + \"malignant/\" + img_file + \".jpg\"\n",
    "        )"
   ]
  },
  {
   "cell_type": "code",
   "execution_count": 13,
   "id": "7b0be79a",
   "metadata": {},
   "outputs": [
    {
     "name": "stdout",
     "output_type": "stream",
     "text": [
      "Number of train examples: 767\n",
      "Number of test examples: 100\n",
      "Number of validation examples: 113\n"
     ]
    }
   ],
   "source": [
    "print(f\"Number of train examples: {train_examples}\")\n",
    "print(f\"Number of test examples: {test_examples}\")\n",
    "print(f\"Number of validation examples: {validation_examples}\")"
   ]
  },
  {
   "cell_type": "code",
   "execution_count": null,
   "id": "fe48db01",
   "metadata": {},
   "outputs": [],
   "source": []
  }
 ],
 "metadata": {
  "kernelspec": {
   "display_name": "Python 3 (ipykernel)",
   "language": "python",
   "name": "python3"
  },
  "language_info": {
   "codemirror_mode": {
    "name": "ipython",
    "version": 3
   },
   "file_extension": ".py",
   "mimetype": "text/x-python",
   "name": "python",
   "nbconvert_exporter": "python",
   "pygments_lexer": "ipython3",
   "version": "3.8.11"
  }
 },
 "nbformat": 4,
 "nbformat_minor": 5
}
